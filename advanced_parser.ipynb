{
 "cells": [
  {
   "cell_type": "code",
   "execution_count": 1,
   "metadata": {},
   "outputs": [],
   "source": [
    "# Модуль selenium.webdriver предоставляет весь функционал WebDriver'а.\n",
    "# На данный момент WebDriver поддерживает реализации Firefox, Chrome, Ie и Remote. \n",
    "#Класс Keys обеспечивает взаимодействие с командами клавиатуры, такими как RETURN, F1, ALT и т.д"
   ]
  },
  {
   "cell_type": "code",
   "execution_count": 2,
   "metadata": {},
   "outputs": [],
   "source": [
    "import time\n",
    "from selenium import webdriver\n",
    "from selenium.webdriver.common.keys import Keys\n"
   ]
  },
  {
   "cell_type": "code",
   "execution_count": 11,
   "metadata": {},
   "outputs": [],
   "source": [
    "#Далее создается элемент класса Firefox WebDriver для нашего url\n",
    "#Единый указатель ресурса (англ. Uniform Resource Locator, URL \n",
    "# — единообразный локатор (определитель местонахождения) ресурса (в нашем случае сайт Картотеки арбитражных дел)\n",
    "url = 'http://ras.arbitr.ru/'  \n",
    "options = webdriver.ChromeOptions()\n",
    "driver = webdriver.Chrome( executable_path = 'C:/Users/User/Desktop/VKR/chromedriver.exe' , options=options )\n",
    "driver.get(url)\n",
    "time.sleep(5) # Let the user actually see something!\n",
    "#Метод driver.get перенаправляет к странице URL в параметре т.е. будет осуществлен переход на страницу входа"
   ]
  },
  {
   "cell_type": "code",
   "execution_count": 12,
   "metadata": {},
   "outputs": [],
   "source": [
    "input_text_element = driver.find_element_by_name('text') #  ищем тот элемент, куда будут забиваться направления деятельности ( прим. 15.27 коап)\n",
    "input_text_element.send_keys(\"15.27 коап\") # Забиваем нужным нам текстом (впоследствии сделать это функцией)\n",
    " "
   ]
  },
  {
   "cell_type": "code",
   "execution_count": 9,
   "metadata": {},
   "outputs": [],
   "source": [
    "button_search = driver.find_element_by_class_name('b-button-container')\n",
    "button_search.click()\n",
    "driver.implicitly_wait(10) # seconds\n",
    "assert \"No results found.\" not in driver.page_source\n"
   ]
  },
  {
   "cell_type": "code",
   "execution_count": 7,
   "metadata": {},
   "outputs": [
    {
     "name": "stdout",
     "output_type": "stream",
     "text": [
      "<selenium.webdriver.remote.webelement.WebElement (session=\"72da8017fda4d8a02cf4ae0aa67cb2f7\", element=\"d109a0b9-4582-409f-9e3e-4a92472b9c92\")>\n"
     ]
    }
   ],
   "source": [
    "print(button_search)"
   ]
  },
  {
   "cell_type": "code",
   "execution_count": null,
   "metadata": {},
   "outputs": [],
   "source": []
  },
  {
   "cell_type": "code",
   "execution_count": null,
   "metadata": {},
   "outputs": [],
   "source": []
  }
 ],
 "metadata": {
  "kernelspec": {
   "display_name": "Python 3",
   "language": "python",
   "name": "python3"
  },
  "language_info": {
   "codemirror_mode": {
    "name": "ipython",
    "version": 3
   },
   "file_extension": ".py",
   "mimetype": "text/x-python",
   "name": "python",
   "nbconvert_exporter": "python",
   "pygments_lexer": "ipython3",
   "version": "3.7.4"
  }
 },
 "nbformat": 4,
 "nbformat_minor": 2
}
