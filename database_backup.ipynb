{
 "cells": [
  {
   "cell_type": "code",
   "execution_count": 1,
   "metadata": {},
   "outputs": [],
   "source": [
    "import sqlite3"
   ]
  },
  {
   "cell_type": "code",
   "execution_count": null,
   "metadata": {},
   "outputs": [],
   "source": [
    "#Директория БД, КУДА копируем (заранне создавать необязательно - создается автоматически)\n",
    "backup_security_database = 'D:/backup_database.db'\n",
    "#Директория БД, КОТОРУЮ копируем\n",
    "security_database = 'database.db'\n",
    "\n",
    "#Устанавливаем связь с БД - \"адресатом\"\n",
    "backup_connection = sqlite3.connect(backup_security_database)\n",
    "#Устанавливаем связь с БД - \"отправителем\"\n",
    "connection = sqlite3.connect(security_database)\n",
    "\n",
    "#Реализуем непосредственное копирование методом \"backup\"\n",
    "#БД - \"адресату\" передается вся структура и содержание БД - \"отправителя\", которые были на момент копирования\n",
    "connection.backup(backup_connection)"
   ]
  }
 ],
 "metadata": {
  "kernelspec": {
   "display_name": "Python 3",
   "language": "python",
   "name": "python3"
  },
  "language_info": {
   "codemirror_mode": {
    "name": "ipython",
    "version": 3
   },
   "file_extension": ".py",
   "mimetype": "text/x-python",
   "name": "python",
   "nbconvert_exporter": "python",
   "pygments_lexer": "ipython3",
   "version": "3.7.4"
  }
 },
 "nbformat": 4,
 "nbformat_minor": 2
}
