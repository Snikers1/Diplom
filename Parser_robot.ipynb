{
 "cells": [
  {
   "cell_type": "code",
   "execution_count": 72,
   "metadata": {},
   "outputs": [],
   "source": [
    "# Что бы получить данные с сайта первым делом надо получить код (html) страницы этого сайта\n",
    "# Для решения этой задачи будем использовать библиотеку requests \n",
    "import requests \n",
    "# В качестве самого парсера мы будем использовать библиотеку BeautifulSoup \n",
    "from bs4 import BeautifulSoup\n"
   ]
  },
  {
   "cell_type": "code",
   "execution_count": 73,
   "metadata": {},
   "outputs": [],
   "source": [
    "#Единый указатель ресурса (англ. Uniform Resource Locator, URL \n",
    "# — единообразный локатор (определитель местонахождения) ресурса (в нашем случае сайт Картотеки арбитражных дел)\n",
    "url = 'http://ras.arbitr.ru/'  "
   ]
  },
  {
   "cell_type": "code",
   "execution_count": 74,
   "metadata": {},
   "outputs": [],
   "source": [
    "#Мы отправляем GET запрос серверу requests.get(url) . И возвращаем данные которые содержаться в поле text .\n",
    "def get_html( url ):\n",
    "    response = requests.get( url )    # Получаем метод Response\n",
    "    response.encoding = 'utf8'      # У меня были проблемы с кодировкой, я задал в ручную\n",
    "    return response.text          # Вернем данные объекта text"
   ]
  },
  {
   "cell_type": "code",
   "execution_count": 77,
   "metadata": {},
   "outputs": [],
   "source": [
    "# Вызываем функцию get_html с нашим url \n",
    "response_page = get_html( url )\n",
    "# Сразу спойлер ! То, что выведет эта функция -  данные, которые были получены в результате запроса GET\n",
    "# Если присмотреться к ответу, можно заметить, что его содержимое является сериализированным JSON контентом"
   ]
  },
  {
   "cell_type": "code",
   "execution_count": 104,
   "metadata": {},
   "outputs": [],
   "source": [
    "def parse( html ):\n",
    "    soup = BeautifulSoup( html ) # Некий интерфейс к странице, который позволяет искать теги\n",
    "    #column_1 = soup('div', class_ = 'column1') # получили левую часть сайта с колонками для вставки\n",
    "    row_input_text = soup('textarea', class_ = '') # ищем тот тэг, куда будут забиваться направления деятельности ( прим. 15.27 коап)\n",
    "    row_input_date = soup('div', class_ = 'b-selected-tags g-ec') # ищем тот тэг, куда будут записываться даты поиска from & to\n",
    "    \n",
    "    #span = row_input_text.find('placeholder')\n",
    "    print(row_input_text)\n",
    "    #print('-----------')\n",
    "    #print(row_input_date)"
   ]
  },
  {
   "cell_type": "code",
   "execution_count": 105,
   "metadata": {},
   "outputs": [
    {
     "name": "stdout",
     "output_type": "stream",
     "text": [
      "[<textarea id=\"*\" name=\"text\" placeholder=\"текст документа\" value=\"\"></textarea>, <textarea placeholder=\"название, ИНН или ОГРН\" value=\"\"></textarea>]\n"
     ]
    }
   ],
   "source": [
    "parse(response_page)"
   ]
  }
 ],
 "metadata": {
  "kernelspec": {
   "display_name": "Python 3",
   "language": "python",
   "name": "python3"
  },
  "language_info": {
   "codemirror_mode": {
    "name": "ipython",
    "version": 3
   },
   "file_extension": ".py",
   "mimetype": "text/x-python",
   "name": "python",
   "nbconvert_exporter": "python",
   "pygments_lexer": "ipython3",
   "version": "3.7.4"
  }
 },
 "nbformat": 4,
 "nbformat_minor": 2
}
